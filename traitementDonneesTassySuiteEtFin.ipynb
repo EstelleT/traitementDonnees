{
 "cells": [
  {
   "cell_type": "markdown",
   "metadata": {},
   "source": [
    "# Aéroports du monde\n",
    "\n",
    "\n",
    "En prenant pour prétexte un fichier de données recensant un très grands nombre d'aéroports, nous allons travailler  pour : \n",
    "- importer un fichier csv\n",
    "- sélectionner des données\n",
    "- trier des données\n",
    "- fusionner des données"
   ]
  },
  {
   "cell_type": "markdown",
   "metadata": {},
   "source": [
    "# 1) Pour commencer \\#1: fichier que nous allons exploiter"
   ]
  },
  {
   "cell_type": "code",
   "execution_count": null,
   "metadata": {},
   "outputs": [],
   "source": [
    "import csv\n",
    "\n",
    "def charger_fichier( nom_fic ):\n",
    "    \"\"\"\n",
    "    Permet de lire un fichier CSV en utilisant la ligne d'entêtes\n",
    "    Retourne une liste de dictionnaires.\n",
    "    \"\"\"\n",
    "    table = []\n",
    "    fichier_csv = open( nom_fic , \"r\", newline =\"\", encoding =\"utf-8\" )\n",
    "    lecteur_fichier = csv.DictReader( fichier_csv , delimiter =\",\")    \n",
    "    for enreg in lecteur_fichier :\n",
    "        table.append (dict ( enreg )) # enreg est de type OrderedDict on le remet endict\n",
    "    fichier_csv.close()    \n",
    "    \n",
    "    return table"
   ]
  },
  {
   "cell_type": "markdown",
   "metadata": {},
   "source": [
    "<div class = \"alert alert-info\">  \n",
    "\n",
    "\n",
    "**Question**  \n",
    "\n",
    "\n",
    "Ouvrir le fichier `.\\airports\\airport.csv` dans Jupyter.\n",
    "    \n",
    "- Noter le séparateur utilisé.  \n",
    "    \n",
    "    \n",
    "- Modifier alors la fonction ci-dessus pour qu'elle puisse importer correctement ce fichier (il y a deux modifications à effectuer aux lignes 9 et 10).  "
   ]
  },
  {
   "cell_type": "code",
   "execution_count": null,
   "metadata": {},
   "outputs": [],
   "source": [
    "table_aeroports = charger_fichier('./airports/airports.csv')\n",
    "table_aeroports"
   ]
  },
  {
   "cell_type": "markdown",
   "metadata": {},
   "source": [
    "# 2) Pour commencer \\#2 : selectionner des données, afficher"
   ]
  },
  {
   "cell_type": "markdown",
   "metadata": {},
   "source": [
    "<div class = \"alert alert-info\">  \n",
    "\n",
    "\n",
    "**Question 2.6**  \n",
    "On se perfectionne en création de liste par compréhension !!\n",
    "Dans un premier temps à partir de la table `table_aeroports`, créer la **table** `table_large_airports` de tous les aéroports de type `large_airport`, en utilisant une ligne pour la boucle for, et une ligne pour le if !\n",
    "    \n",
    "   "
   ]
  },
  {
   "cell_type": "code",
   "execution_count": null,
   "metadata": {},
   "outputs": [],
   "source": [
    "table_large_airports = [ aero for aero in table_aeroports if aero['Type'] == 'large_airport' ]\n",
    "table_large_airports"
   ]
  },
  {
   "cell_type": "markdown",
   "metadata": {},
   "source": [
    "# 4) Enrichir une carte avec des marqueurs"
   ]
  },
  {
   "cell_type": "markdown",
   "metadata": {},
   "source": [
    "Nous allons utiliser le module `folium` qui permet de générer des cartes géographiques interactives (zoomables) avec des marqueurs légendés (cliquables). Lorsqu'on cherche à générer une carte avec ce module le processus de conception est le suivant, qui se déroule en trois étapes :\n",
    "\n",
    "- Créer une \"carte\" (de type `folium.Map`)\n",
    "- Ajouter des \"marqueurs\" sur la \"carte\" (de type `folium.Marker` ou `folium.CircleMarker`)\n",
    "    - En spécifiant les coordonnées géographiques (latitude et longitude)\n",
    "    - En spécifiant si besoin l'objet `folium.Popup` qui doit apparaître lors d'un clic sur le marqueur\n",
    "    - En spécifiant d'autres paramètres tels que la couleur du marqueur, la taille du marqueur etc.\n",
    "- Obtenir la carte :\n",
    "    - dans Jupyter simplement demander sa représentation permet de l'afficher\n",
    "    - on peut aussi la sauvegarder sous forme d'une page HTML pour être insérée dans une page web"
   ]
  },
  {
   "cell_type": "markdown",
   "metadata": {},
   "source": [
    "La fonction `ajouter_marqueur` ci-dessous permet de gérer l'étape 2 (pour un seul marqueur) et prend en paramètres :\n",
    "- une latitude (de type `float`)\n",
    "- une longitude (de type `float`)\n",
    "- une légende sous forme de dictionnaire (clés et valeurs de type `str`)\n",
    "\n",
    "Elle permet d'ajouter un marqueur ayant la légende donnée, au point de coordonnées données, sur une folium.Map."
   ]
  },
  {
   "cell_type": "markdown",
   "metadata": {},
   "source": [
    "<div class = \"alert alert-info\">  \n",
    "\n",
    "\n",
    "**Question 4.1**  \n",
    "\n",
    "Exécuter la cellule de code ci-dessous."
   ]
  },
  {
   "cell_type": "code",
   "execution_count": null,
   "metadata": {},
   "outputs": [],
   "source": [
    "import folium\n",
    "\n",
    "\n",
    "\n",
    "\n",
    "def ajouter_marqueur(carte, latitude, longitude, nom, pays, couleur):\n",
    "    '''\n",
    "    carte : de type folium.Map\n",
    "    latitude et longitude : de type float\n",
    "    dictionnaire : de type dict avec clées et valeurs de type str\n",
    "    couleur : au format '#RRGGBB' où RR, GG, BB sont des entiers entre 0 et 255 en hexadécimal\n",
    "              représentant les composant Rouge, Verte et Bleue de la couleur\n",
    "    '''\n",
    "    radius = 4\n",
    "    folium.CircleMarker(\n",
    "        location = [latitude, longitude],\n",
    "        radius = radius,\n",
    "        popup = nom  +\"  \"+ pays,\n",
    "        color = couleur,\n",
    "        fill = True\n",
    "    ).add_to(carte)\n",
    "    \n",
    "\n",
    "\n",
    "#étape 1 : création de la carte  \n",
    "ma_carte = folium.Map(location=(45, 0), zoom_start=2)\n",
    "\n",
    "#étape 2 : ajout de quatre marqueurs\n",
    "ajouter_marqueur(ma_carte,  47.8,   1.6,  'VILLORCEAU','FR', \"#FF0000\")\n",
    "ajouter_marqueur(ma_carte,    47,    30, 'AAA','RU' ,\"#880000\")\n",
    "ajouter_marqueur(ma_carte,    20,   -30,  'Atlantide','',   \"#00FFFF\")\n",
    "ajouter_marqueur(ma_carte, -13.2, -72.5,  'Cité d\\'Or','PE',   \"#88BB88\")\n",
    "\n",
    "#étape 3 : affichage de la carte\n",
    "ma_carte\n",
    "\n",
    "#étape 3 : variante en sauvegardant la carte au format HTML (sauvegarde dans le dossier courant)\n",
    "#ma_carte.save('.\\carte_de_test.html')\n",
    "\n",
    "\n"
   ]
  },
  {
   "cell_type": "markdown",
   "metadata": {},
   "source": [
    "<div class = \"alert alert-info\">  \n",
    "\n",
    "\n",
    "**Question**  \n",
    "\n",
    "Modifier le code ci-dessus pour :\n",
    "- que les marqueurs soient en jaune (Rouge + Vert en synthèse additive),\n",
    "- que les cercles tracés soient deux fois plus petit (diviser leur rayon par deux),\n"
   ]
  },
  {
   "cell_type": "markdown",
   "metadata": {},
   "source": [
    "<div class = \"alert alert-danger\">  \n",
    "\n",
    "\n",
    "# Et nos aéroports ?\n",
    "    \n",
    "Nus avons vu comment accéder au fichier des aéroports et comment enrichir une carte avec des marqueurs. Nous allons désormais chercher à créer une carte avec les aéroports de la façon suivante :\n",
    "    \n",
    "- La couleur du marqueur dépendra de l'altitude de l'aéroport :\n",
    "    - entre 0 et 100 pieds : bleu\n",
    "    - entre 100 et 2000 pieds (ente 40 et 500 m) : vert \n",
    "    - entre 2000 et 3000 pieds (500 et 1000m) : jaune\n",
    "    - entre 3000 et 5000 pieds (1000m et 1500m) : rouge\n",
    "    - au delà de 5000 pieds (1500 m d'altitude) : noir (équivalent : entre 5000 et 99999 pieds d'altitude)\n",
    "    \n",
    "    \n",
    "     \n",
    "    \n",
    "Pour cela nous allons pour chacune des cinq plages d'altitude :\n",
    "- Créer une nouvelle table ne comportant que les aéroports ayant une altitude dans cette plage,\n",
    "- Pour chacun des aéroports de cette nouvelle table :\n",
    "    - Utiliser la fonction `ajouter_marqueur` pour placer l'aéroport correspondant sur la carte\n",
    "\n",
    "Bien entendu nous allons travailler avec des fonctions.\n",
    "    \n",
    "\n",
    "**Remarque :** Il aurait été possible de procéder autrement et d'optimiser un peu. Mais en travaillant ainsi on exploite davantage les capacités attendues du programme de NSI."
   ]
  },
  {
   "cell_type": "markdown",
   "metadata": {},
   "source": [
    "# 4) Quelques fonctions à créer"
   ]
  },
  {
   "cell_type": "markdown",
   "metadata": {},
   "source": [
    "<div class = \"alert alert-info\">  \n",
    "\n",
    "\n",
    "**Question**  \n",
    "\n",
    "Compléter la fonction `extraire_aeroports_dans_plage` qui prend en paramètres :\n",
    "- une table d'aéroprts `table` comportant un champ `Altitude` exprimée en pieds,\n",
    "- une altitude minimale `alt_min` exprimée en mètres,\n",
    "- une altitude maximale `alt_max` exprimée en mètres,\n",
    "    \n",
    "et renvoie une table comportant tous les aéroports ayant une altitude comprise entre `alt_min` (compris) et `alt_max` (non compris)\n",
    "    \n",
    "**Remarque :** en procédant avec une création de liste par comprhénsion cela peut se faire en une seule instruction (plus l'instruction `return ...`)\n",
    "**Remarque :** Ne pas oublier le types des données !! ici le nombres sont des chaines de caratéres !!! donc à convertir en float !\n",
    "    \n",
    "\n",
    "**Remarque :** 1 pied = 0,3048 mètre\n",
    "   "
   ]
  },
  {
   "cell_type": "code",
   "execution_count": null,
   "metadata": {},
   "outputs": [],
   "source": [
    "def extraire_aeroports_dans_plage(table, alt_min, alt_max):\n",
    "    #à compléter pour répondre\n",
    "    return table_extraite"
   ]
  },
  {
   "cell_type": "code",
   "execution_count": null,
   "metadata": {},
   "outputs": [],
   "source": [
    "extraire_aeroports_dans_plage(table_aeroports, 100, 2000)"
   ]
  },
  {
   "cell_type": "markdown",
   "metadata": {},
   "source": [
    "# 5) Une première carte"
   ]
  },
  {
   "cell_type": "markdown",
   "metadata": {},
   "source": [
    "<div class = \"alert alert-info\">  \n",
    "\n",
    "\n",
    "**Question**  \n",
    "\n",
    "On dispose désormais de deux fonctions :\n",
    "- `ajouter_marqueur`\n",
    "- `extraire_aeroports_dans_plage`\n",
    "\n",
    "\n",
    "\n",
    "1) En utilisant ces deux fonctions, compléter la cellule de code ci-dessous pour obtenir une carte avec les aéroports en bleu ayant une altitude entre  0 et 100 pieds (0 et 40 mètres).\n",
    "    \n",
    "    \n",
    "2) Compléter le code pour placer sur la carte les 4 autres catégories d'aéroports   \n",
    "    - entre 0 et 100 pieds : bleu\n",
    "    - entre 100 et 2000 pieds (ente 40 et 500 m) : vert \n",
    "    - entre 2000 et 3000 pieds (500 et 1000m) : jaune\n",
    "    - entre 3000 et 5000 pieds (1000m et 1500m) : rouge\n",
    "    - au delà de 5000 pieds (1500 m d'altitude) : noir\n",
    "On pourra :\n",
    "- soit créer une fonction qui reprend le code du 1) et qu'on appellera cinq fois,\n",
    "- soit faire 4 Copier-Coller (solution moins élégante)"
   ]
  },
  {
   "cell_type": "code",
   "execution_count": null,
   "metadata": {},
   "outputs": [],
   "source": [
    "table_aeroports = charger_fichier('.\\\\airports\\\\airports.csv')\n",
    "\n",
    "#étape 1 : création de la carte  \n",
    "ma_carte = folium.Map(location=(45, 0), zoom_start=2)\n",
    "\n",
    "#étape 2 : ajout des marqueurs\n",
    "\n",
    "\n",
    "    \n",
    "#à compléter (pas mal de ligne de code)\n",
    "    \n",
    "\n",
    "#étape 3 : affichage de la carte\n",
    "ma_carte"
   ]
  },
  {
   "cell_type": "markdown",
   "metadata": {},
   "source": [
    "# 6) Une amélioration qui nécessite une fusion de tables"
   ]
  },
  {
   "cell_type": "markdown",
   "metadata": {},
   "source": [
    "On souhaite afficher une variante de cette carte pour laquelle le code du nom du pays a été remplacé par son nom de pays selon la norme ISO-3166. Au lieu de FR, s'affichera France, CN : China.... C'est plus facile ! C'était l'idée d'Ange !! Non ?\n",
    "\n",
    "Pour ce dernier point, il convient de savoir que notre table aéroports respectait les noms de pays de la nomre ISO-3166 et que l'on dispose d'une table adéquate permettant d'assurer la correspondance :"
   ]
  },
  {
   "cell_type": "code",
   "execution_count": null,
   "metadata": {},
   "outputs": [],
   "source": [
    "import csv\n",
    "\n",
    "def charger_fichier( nom_fic ):\n",
    "    \"\"\"\n",
    "    Permet de lire un fichier CSV en utilisant la ligne d'entêtes\n",
    "    Retourne une liste de dictionnaires.\n",
    "    \"\"\"\n",
    "    table = []\n",
    "    fichier_csv = open( nom_fic , \"r\", newline =\"\", encoding =\"utf-8\" )\n",
    "    lecteur_fichier = csv.DictReader( fichier_csv , delimiter =\",\")    \n",
    "    for enreg in lecteur_fichier :\n",
    "        table.append (dict ( enreg )) # enreg est de type OrderedDict on le remet endict\n",
    "    fichier_csv.close() \n",
    "    return table"
   ]
  },
  {
   "cell_type": "code",
   "execution_count": null,
   "metadata": {},
   "outputs": [],
   "source": [
    "table_pays = charger_fichier('./airports/countries.csv')\n",
    "table_aeroports = charger_fichier('./airports/airports.csv')"
   ]
  },
  {
   "cell_type": "markdown",
   "metadata": {},
   "source": [
    "Pour l'Andorre, le code alpha-2 est 'AD' (il existe aussi un code alpha-3 sur 3 lettres):"
   ]
  },
  {
   "cell_type": "code",
   "execution_count": null,
   "metadata": {},
   "outputs": [],
   "source": [
    "table_pays[0]"
   ]
  },
  {
   "cell_type": "markdown",
   "metadata": {},
   "source": [
    "Nous allons fusionner la table des aéroports `table_aeroports` avec la table des pays `table_pays` afin d'obtenir une table fusionnée comportant tous les champs de la table `table_aeroports` plus le champ `Country_Name`"
   ]
  },
  {
   "cell_type": "markdown",
   "metadata": {},
   "source": [
    "<div class = \"alert alert-info\">  \n",
    "    \n",
    "\n",
    "**Question**\n",
    "    \n",
    "    \n",
    "Compléter le code de la fonction `fusionner` ci-dessous :\n",
    "- prenant en paramètre les tables `table_gauche` et `table_droite` \n",
    "    \n",
    "    \n",
    "- renvoyant une table `table_fusionnee` telle que :\n",
    "    - chaque dictionnaire de la table fusionnee comporte tous les champs de la table gauche `table_gauche` et le champ `name` de la `table_droite` renommé en champ `Country_Name`,\n",
    "    \n",
    "    - avec le champ `Country_Code` utilisé comme champ de fusion pour `table_gauche` et `code` comme champ de fusion pour `table_droite` \n",
    "    \n",
    "    \n",
    "(`table_gauche` sera la table des aéroports, `table_droite` sera la table des pays).\n",
    "    \n",
    "Voici un exemple d'enregistrement (de ligne) de la table fusionnée : on remarque le champ `Country_Name` en plus.\n",
    "\n",
    "```\n",
    "{'Airport_ID': '2596',\n",
    " 'Name': 'Sørkjosen Airport',\n",
    " 'Type': 'medium_airport',\n",
    " 'City': 'Sørkjosen',\n",
    " 'Country_Code': 'NO',\n",
    " 'IATA': 'SOJ',\n",
    " 'Latitude': '69.786796569824',\n",
    " 'Longitude': '20.959400177002',\n",
    " 'Altitude': '16',\n",
    " 'Country_Name': 'Norway'}    \n",
    "```"
   ]
  },
  {
   "cell_type": "code",
   "execution_count": null,
   "metadata": {},
   "outputs": [],
   "source": [
    "import copy\n",
    "\n",
    "def fusionner(table_gauche, table_droite):\n",
    "    table_fusion = []\n",
    "    for gauche in table_gauche:\n",
    "        for droite in table_droite:\n",
    "            #à compléter      \n",
    "    return table_fusion"
   ]
  },
  {
   "cell_type": "code",
   "execution_count": null,
   "metadata": {},
   "outputs": [],
   "source": [
    "table_fusionnee = fusionner (table_aeroports, table_pays)\n",
    "table_fusionnee[1500]"
   ]
  },
  {
   "cell_type": "markdown",
   "metadata": {},
   "source": [
    "<div class = \"alert alert-info\">  \n",
    "    \n",
    "\n",
    "**Question**\n",
    "    \n",
    "    \n",
    "Modifier le code ci-dessous (à un seul endroit) pour qu'il affiche les aéroports avec le nom des pays au lieu des codes des pays comme auparavant."
   ]
  },
  {
   "cell_type": "code",
   "execution_count": null,
   "metadata": {
    "scrolled": true
   },
   "outputs": [],
   "source": [
    "def extraire_aeroports_dans_plage(table, alt_min, alt_max):\n",
    "    table_extraite = [aeroport for aeroport in table if\n",
    "                     alt_min <=  float(aeroport['Altitude']) and\n",
    "                      float(aeroport['Altitude']) < alt_max]\n",
    "    return table_extraite\n",
    "\n",
    "\n",
    "#étape 0 : creer la table des aeroports fusionnee\n",
    "table_pays = charger_fichier('./airports/countries.csv')\n",
    "table_aeroports = charger_fichier('./airports/airports.csv')\n",
    "table_aeroports = fusionner (table_aeroports, table_pays)\n",
    "\n",
    "#étape 1 : création de la carte  \n",
    "ma_carte = folium.Map(location=(45, 0), zoom_start=2)\n",
    "\n",
    "#étape 2 : ajout des marqueurs\n",
    "\n",
    "def ajouter_plage_sur_carte(carte, table_des_aeroports, alt_min, alt_max, couleur):\n",
    "    plage = extraire_aeroports_dans_plage(table_des_aeroports, alt_min, alt_max)\n",
    "    for aero in plage :\n",
    "        \n",
    "        ajouter_marqueur(carte,  aero['Latitude'],aero['Longitude'] ,aero['Name'] ,aero['Country_Code'], couleur)   \n",
    "\n",
    "ajouter_plage_sur_carte(ma_carte, table_aeroports,    0,    100, '#0000FF')\n",
    "ajouter_plage_sur_carte(ma_carte, table_aeroports,   100,   2000, '#00FF00')\n",
    "ajouter_plage_sur_carte(ma_carte, table_aeroports,  2000,  3000, '#FFFF00') \n",
    "ajouter_plage_sur_carte(ma_carte, table_aeroports, 3000,  5000, '#FF0000') \n",
    "ajouter_plage_sur_carte(ma_carte, table_aeroports, 5000, 99999, '#000000') \n",
    "    \n",
    "\n",
    "#étape 3 : affichage de la carte\n",
    "ma_carte"
   ]
  },
  {
   "cell_type": "code",
   "execution_count": null,
   "metadata": {},
   "outputs": [],
   "source": []
  }
 ],
 "metadata": {
  "kernelspec": {
   "display_name": "Python 3",
   "language": "python",
   "name": "python3"
  },
  "language_info": {
   "codemirror_mode": {
    "name": "ipython",
    "version": 3
   },
   "file_extension": ".py",
   "mimetype": "text/x-python",
   "name": "python",
   "nbconvert_exporter": "python",
   "pygments_lexer": "ipython3",
   "version": "3.7.1"
  }
 },
 "nbformat": 4,
 "nbformat_minor": 4
}
