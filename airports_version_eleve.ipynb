{
 "cells": [
  {
   "cell_type": "markdown",
   "metadata": {},
   "source": [
    "# Aéroports du monde\n",
    "\n",
    "\n",
    "En prenant pour prétexte un fichier de données recensant un très grands nombre d'aéroports, nous allons travailler les méthodes vues en cours pour : \n",
    "- importer un fichier csv\n",
    "- sélectionner des données\n",
    "- trier des données\n",
    "- fusionner des données"
   ]
  },
  {
   "cell_type": "markdown",
   "metadata": {},
   "source": [
    "# 1) Pour commencer \\#1: fichier que nous allons exploiter"
   ]
  },
  {
   "cell_type": "code",
   "execution_count": null,
   "metadata": {},
   "outputs": [],
   "source": [
    "import csv\n",
    "\n",
    "def charger_fichier( nom_fic ):\n",
    "    \"\"\"\n",
    "    Permet de lire un fichier CSV en utilisant la ligne d'entêtes\n",
    "    Retourne une liste de dictionnaires.\n",
    "    \"\"\"\n",
    "    table = []\n",
    "    fichier_csv = open( nom_fic , \"w\", newline =\"\", encoding =\"latin-1\" )\n",
    "    lecteur_fichier = csv.DictReader( fichier_csv , delimiter =\";\")    \n",
    "    for enreg in lecteur_fichier :\n",
    "        table.append (dict ( enreg )) # enreg est de type OrderedDict on le remet endict\n",
    "    fichier_csv.close()    \n",
    "    \n",
    "    return table"
   ]
  },
  {
   "cell_type": "markdown",
   "metadata": {},
   "source": [
    "<div class = \"alert alert-info\">  \n",
    "\n",
    "\n",
    "**Question**  \n",
    "\n",
    "\n",
    "Ouvrir le fichier `.\\airports\\airports.csv` avec Notepad++.\n",
    "    \n",
    "- Noter l'encodage utilisé (en bas à droite de la fenêtre Notepad++) et noter le séparateur utilisé.  \n",
    "    \n",
    "    \n",
    "- Modifier alors la fonction ci-dessus pour qu'elle puisse importer correctement ce fichier (il y a trois modifications à effectuer aux lignes 9 et 10).  "
   ]
  },
  {
   "cell_type": "code",
   "execution_count": null,
   "metadata": {},
   "outputs": [],
   "source": [
    "table_aeroports = charger_fichier('.\\\\airports\\\\airports.csv')"
   ]
  },
  {
   "cell_type": "markdown",
   "metadata": {},
   "source": [
    "<div class = \"alert alert-info\">  \n",
    "\n",
    "\n",
    "**Question**  \n",
    "\n",
    "Combien d'enregistrements (c-à-d de lignes) contient cette table ?"
   ]
  },
  {
   "cell_type": "code",
   "execution_count": null,
   "metadata": {},
   "outputs": [],
   "source": [
    "#à compléter pour répondre"
   ]
  },
  {
   "cell_type": "markdown",
   "metadata": {},
   "source": [
    "<div class = \"alert alert-info\">  \n",
    "\n",
    "\n",
    "**Question**  \n",
    "- Afficher tout l'enregistrement d'indice 1111 de cette table. \n",
    "\n",
    "\n",
    "- Quel est le code du pays de cet aéroport ? D'après vous à quel pays cela correspond-il ?\n",
    "    \n",
    "\n",
    "- Quelle est son altitude (attention elle est exprimée en pieds)?"
   ]
  },
  {
   "cell_type": "code",
   "execution_count": null,
   "metadata": {},
   "outputs": [],
   "source": [
    "#à compléter pour répondre"
   ]
  },
  {
   "cell_type": "markdown",
   "metadata": {},
   "source": [
    "<div class = \"alert alert-info\">  \n",
    "\n",
    "\n",
    "**Question**  \n",
    "\n",
    "Afficher uniquement le nom de l'aéroport de l'enregistrement d'indice 1234 de cette table."
   ]
  },
  {
   "cell_type": "code",
   "execution_count": null,
   "metadata": {},
   "outputs": [],
   "source": [
    "#à compléter pour répondre"
   ]
  },
  {
   "cell_type": "markdown",
   "metadata": {},
   "source": [
    "<div class = \"alert alert-danger\">\n",
    "\n",
    "\n",
    "## WARNING N°1\n",
    "\n",
    "Rappelez vous que les valeurs de tous les champs sont de type `str` et qu'il faut les convertir en `float` ou en `int` si besoin (et le besoin sera très souvent là).  \n",
    "    \n",
    "\n",
    "Si cela peut vous rassurer, en question 4.5 il y a du code que j'ai mis une heure à débugger avant de trouver l'erreur liée à ce problème (les comparaisons étaient effectuées sur l'ordre alphabétique au lieu d'être effectuées sur l'ordre des nombres flottants). Cela faisait bien longtemps que ça ne m'était pas arrivé ...\n",
    "    \n",
    "\n",
    "## WARNING N°2\n",
    "\n",
    "On appellera **table** une `list` de `dict` python (c'est à dire un tableau de p-uplets nommés en langage \"algorithmique\")."
   ]
  },
  {
   "cell_type": "markdown",
   "metadata": {},
   "source": [
    "# 2) Pour commencer \\#2 : rechercher / trier des données [ III et IV du cours ]"
   ]
  },
  {
   "cell_type": "markdown",
   "metadata": {},
   "source": [
    "<div class = \"alert alert-info\">  \n",
    "\n",
    "\n",
    "**Question**  \n",
    "\n",
    "En une seule instruction, à partir de la table `table_aeroports`, creer la liste `liste_des_types` de tous les types `Type` d'aéroports existant dans la table."
   ]
  },
  {
   "cell_type": "code",
   "execution_count": null,
   "metadata": {},
   "outputs": [],
   "source": [
    "#à compléter pour répondre"
   ]
  },
  {
   "cell_type": "markdown",
   "metadata": {},
   "source": [
    "<div class = \"alert alert-info\">  \n",
    "    \n",
    "    \n",
    "**Question**  \n",
    "Les types d'aéroports apparaissent plusieurs fois dans cette liste. Ce qui est gênant.  \n",
    "Compléter la fonction `enlever_doublons_liste` qui prend en argument une liste `avec_doublons` et renvoie une autre liste `sans_doublons` dont les éléments sont les éléments de `avec_doublons` mais présents une seule fois (et en conservant l'ordre des indices de première apparition de gauche à droite). Quelques assertions que devra satisfaire votre fonction sont données plus bas"
   ]
  },
  {
   "cell_type": "code",
   "execution_count": null,
   "metadata": {},
   "outputs": [],
   "source": [
    "def enlever_doublons_liste(avec_doublons):\n",
    "    sans_doublons = []\n",
    "    for element in avec_doublons:\n",
    "        #à compléter pour répondre\n",
    "        \n",
    "        \n",
    "        \n",
    "    return sans_doublons"
   ]
  },
  {
   "cell_type": "code",
   "execution_count": null,
   "metadata": {},
   "outputs": [],
   "source": [
    "assert enlever_doublons_liste(['a', 'c', 'b', 'a', 'a', 'z', 'k', 'b']) == ['a', 'c', 'b', 'z', 'k']\n",
    "assert enlever_doublons_liste([10, 9, 10, 10, -99, 99, -99]) == [10, 9, -99, 99]"
   ]
  },
  {
   "cell_type": "code",
   "execution_count": null,
   "metadata": {},
   "outputs": [],
   "source": [
    "liste_des_types = enlever_doublons_liste(liste_des_types)\n",
    "liste_des_types"
   ]
  },
  {
   "cell_type": "markdown",
   "metadata": {},
   "source": [
    "<div class = \"alert alert-info\">  \n",
    "\n",
    "\n",
    "**Question**  \n",
    "\n",
    "En une seule instruction, à partir de la table `table_aeroports`, créer la **table** `table_large_airports` de tous les aéroports de type `large_airport`.\n",
    "    \n",
    "    \n",
    "Combien y'en a-t-il ?"
   ]
  },
  {
   "cell_type": "code",
   "execution_count": null,
   "metadata": {},
   "outputs": [],
   "source": [
    "#à compléter pour répondre"
   ]
  },
  {
   "cell_type": "markdown",
   "metadata": {},
   "source": [
    "<div class = \"alert alert-info\">  \n",
    "\n",
    "\n",
    "**Question**  \n",
    "\n",
    "En une seule instruction, à partir de la table `table_aeroports`, créer la **table** `table_large_airports_FR` de tous les aéroports de type `large_airport` situés en France (`Country_Code` égal à `FR`).\n",
    "    \n",
    "    \n",
    "Combien y'en a-t-il ?"
   ]
  },
  {
   "cell_type": "code",
   "execution_count": null,
   "metadata": {},
   "outputs": [],
   "source": [
    "#à compléter pour répondre"
   ]
  },
  {
   "cell_type": "markdown",
   "metadata": {},
   "source": [
    "<div class = \"alert alert-info\">  \n",
    "\n",
    "\n",
    "**Question**  \n",
    "\n",
    "Créer la table `table_alt_decroissantes` des aéroports triés par ordre décroissant d'altitude.\n",
    "    \n",
    "Penser à faire une fonction clef de tri auparavant \n",
    "    \n",
    "**Attention aux conversions de type, sinon vous allez trrier par ordre alphabétique au lieu de trier par ordre numérique. Voir Warning n°1**"
   ]
  },
  {
   "cell_type": "code",
   "execution_count": null,
   "metadata": {},
   "outputs": [],
   "source": [
    "#à compléter pour répondre"
   ]
  },
  {
   "cell_type": "markdown",
   "metadata": {},
   "source": [
    "<div class = \"alert alert-info\">  \n",
    "\n",
    "\n",
    "**Question**  \n",
    "\n",
    "Créer la liste des `Country_Code` des 20 aéroports les plus hauts.  \n",
    "    \n",
    "Quel pays est le plus présent dans cette liste (ou quel code de pays si vous ne maîtrisez pas les codes de pays) ?"
   ]
  },
  {
   "cell_type": "code",
   "execution_count": null,
   "metadata": {},
   "outputs": [],
   "source": [
    "#à compléter pour répondre"
   ]
  },
  {
   "cell_type": "markdown",
   "metadata": {},
   "source": [
    "<div class = \"alert alert-info\">  \n",
    "\n",
    "\n",
    "**Question**  \n",
    "\n",
    "Créer la table `table_triee_par_lieu` des aéroports triés par ordre alphabétique de `City` croissant puis par ordre alphabétique de `Country_Code` croissant.  \n",
    "\n",
    "Quel est le nom de l'aéroport situé à l'indice 5555 de cette table triée ?"
   ]
  },
  {
   "cell_type": "code",
   "execution_count": null,
   "metadata": {},
   "outputs": [],
   "source": [
    "#à compléter pour répondre"
   ]
  },
  {
   "cell_type": "markdown",
   "metadata": {},
   "source": [
    "# 3) Enrichir une carte avec des marqueurs"
   ]
  },
  {
   "cell_type": "markdown",
   "metadata": {},
   "source": [
    "Nous allons utiliser le module `folium` qui permet de générer des cartes géographiques interactives (zoomables) avec des marqueurs légendés (cliquables). Lorsqu'on cherche à générer une carte avec ce module le processus de conception est le suivant, qui se déroule en trois étapes :\n",
    "\n",
    "- Créer une \"carte\" (de type `folium.Map`)\n",
    "- Ajouter des \"marqueurs\" sur la \"carte\" (de type `folium.Marker` ou `folium.CircleMarker`)\n",
    "    - En spécifiant les coordonnées géographiques (latitude et longitude)\n",
    "    - En spécifiant si besoin l'objet `folium.Popup` qui doit apparaître lors d'un clic sur le marqueur\n",
    "    - En spécifiant d'autres paramètres tels que la couleur du marqueur, la taille du marqueur etc.\n",
    "- Obtenir la carte :\n",
    "    - dans Jupyter simplement demander sa représentation permet de l'afficher\n",
    "    - on peut aussi la sauvegarder sous forme d'une page HTML pour être insérée dans une page web"
   ]
  },
  {
   "cell_type": "markdown",
   "metadata": {},
   "source": [
    "La fonction `ajouter_marqueur` ci-dessous permet de gérer l'étape 2 (pour un seul marqueur) et prend en paramètres :\n",
    "- une latitude (de type `float`)\n",
    "- une longitude (de type `float`)\n",
    "- une légende sous forme de dictionnaire (clés et valeurs de type `str`)\n",
    "\n",
    "Elle permet d'ajouter un marqueur ayant la légende donnée, au point de coordonnées données, sur une folium.Map."
   ]
  },
  {
   "cell_type": "markdown",
   "metadata": {},
   "source": [
    "<div class = \"alert alert-info\">  \n",
    "\n",
    "\n",
    "**Question**  \n",
    "\n",
    "Exécuter la cellule de code ci-dessous."
   ]
  },
  {
   "cell_type": "code",
   "execution_count": null,
   "metadata": {},
   "outputs": [],
   "source": [
    "import folium\n",
    "import math\n",
    "import random\n",
    "\n",
    "def mystere(dictionnaire):\n",
    "    ''' \n",
    "    Etant donné un dictionnaire passé en argument retourne une chaîne de caractères \n",
    "    dont la spécification est l'objet d'une question de l'énoncé\n",
    "    '''\n",
    "    code = \"<p> <style> table, tr, td {border: 1px solid pink;} </style> <table>\"\n",
    "    for cle, valeur in dictionnaire.items():\n",
    "        code = code + (\"<tr><td>\" + cle + \"</td>\" + \"<td>\" + valeur + \"</td></tr>\")\n",
    "    code = code + \"</table></p>\"\n",
    "    return code\n",
    "\n",
    "def generer_popup(dictionnaire):\n",
    "    contenu_de_la_popup = mystere(dictionnaire)\n",
    "    iframe = folium.IFrame(html = contenu_de_la_popup, width = 300, height = 200)\n",
    "    popup = folium.Popup(iframe, max_width = 500)\n",
    "    return popup\n",
    "\n",
    "def ajouter_marqueur(carte, latitude, longitude, dictionnaire, couleur):\n",
    "    '''\n",
    "    carte : de type folium.Map\n",
    "    latitude et longitude : de type float\n",
    "    dictionnaire : de type dict avec clées et valeurs de type str\n",
    "    couleur : au format '#RRGGBB' où RR, GG, BB sont des entiers entre 0 et 255 en hexadécimal\n",
    "              représentant les composant Rouge, Verte et Bleue de la couleur\n",
    "    '''\n",
    "    radius = 4\n",
    "    folium.CircleMarker(\n",
    "        location = [latitude, longitude],\n",
    "        radius = radius,\n",
    "        popup = generer_popup(dictionnaire),\n",
    "        color = couleur,\n",
    "        fill = True\n",
    "    ).add_to(carte)\n",
    "    \n",
    "\n",
    "\n",
    "#étape 1 : création de la carte  \n",
    "ma_carte = folium.Map(location=(45, 0), zoom_start=2)\n",
    "\n",
    "#étape 2 : ajout de quatre marqueurs\n",
    "ajouter_marqueur(ma_carte,  47.8,   1.6,  {'Ville' : 'VILLORCEAU', 'Pop.' : '???'}, \"#FF0000\")\n",
    "ajouter_marqueur(ma_carte,    47,    30,  {'Ville' : 'AAA',        'Pop.' : '999'}, \"#880000\")\n",
    "ajouter_marqueur(ma_carte,    20,   -30,  {'Ville' : 'Atlantide',  'Pop.' : '0'},   \"#00FFFF\")\n",
    "ajouter_marqueur(ma_carte, -13.2, -72.5,  {'Ville' : 'Cité d\\'Or', 'Pop.' : '1'},   \"#88BB88\")\n",
    "\n",
    "#étape 3 : affichage de la carte\n",
    "ma_carte\n",
    "\n",
    "#étape 3 : variante en sauvegardant la carte au format HTML (sauvegarde dans le dossier courant)\n",
    "#ma_carte.save('.\\carte_de_test.html')\n",
    "\n"
   ]
  },
  {
   "cell_type": "markdown",
   "metadata": {},
   "source": [
    "<div class = \"alert alert-info\">  \n",
    "\n",
    "\n",
    "**Question**  \n",
    "\n",
    "Modifier le code ci-dessus pour :\n",
    "- que les marqueurs soient en jaune (Rouge + Vert en synthèse additive),\n",
    "- que les cercles tracés soient deux fois plus petit (diviser leur rayon par deux),\n",
    "- que le tableau qui s'affiche dans les pop-ups ait toutes ses bordures bleues."
   ]
  },
  {
   "cell_type": "markdown",
   "metadata": {},
   "source": [
    "<div class = \"alert alert-info\">  \n",
    "\n",
    "\n",
    "**Question**  \n",
    "\n",
    "La cellule de code ci-dessus utilsiait une fonction `mystere` pour fournir le contenu à afficher dans les fenêtres pop-ups.\n",
    "    \n",
    "    \n",
    "En effectuant plusieurs appels à la fonction `mystere` avec des dictionnaires différents - grâce à la cellule ci-dessous - déterminer quelle est l'affirmation correcte :\n",
    "\n",
    "- la fonction `mystere` retourne sous forme de chaîne de caractères le code CSS correspondant au dictionnaire fourni en argument,  \n",
    "\n",
    "    \n",
    "- la fonction `mystere` retourne sous forme de chaîne de caractères le code HTML correspondant au dictionnaire fourni en argument,  \n",
    "    \n",
    "    \n",
    "- la fonction `mystere` retourne sous forme de chaîne de caractères le code HTML + CSS correspondant au dictionnaire fourni en argument,  \n",
    "    \n",
    "\n",
    "- la fonction `mystere` retourne sous forme de fichier CSV  le code correspondant au dictionnaire fourni en argument,      \n",
    "    \n",
    "    \n",
    "- la fonction `mystere` est trop mystérieuse pour moi :-(     \n",
    "\n",
    "[On pourra si besoin consulter cette page](https://www.w3schools.com/css/css_howto.asp)\n"
   ]
  },
  {
   "cell_type": "code",
   "execution_count": null,
   "metadata": {},
   "outputs": [],
   "source": [
    "dico = {'Race' : 'Setter', 'Nom' : 'Pilou', 'Age' : '7'}\n",
    "mystere(dico)"
   ]
  },
  {
   "cell_type": "markdown",
   "metadata": {},
   "source": [
    "<div class = \"alert alert-danger\">  \n",
    "\n",
    "\n",
    "# Avant d'aller plus loin : Synthèse\n",
    "    \n",
    "Nus avons vu comment accéder au fichier des aéroports et comment enrichir une carte avec des marqueurs. Nous allons désormais chercher à créer une carte avec les aéroports de la façon suivante :\n",
    "    \n",
    "- La couleur du marqueur dépendra de l'altitude de l'aéroport :\n",
    "    - entre 0 et 40 mètres : bleu\n",
    "    - entre 40 et 500 mètres : vert\n",
    "    - entre 500 et 1000 mètres : jaune\n",
    "    - entre 1000 et 1500 mètres : rouge\n",
    "    - au delà de 1500 mètres d'altitude : noir (équivalent : entre 1500 et 99999 mètres d'altitude)\n",
    "    \n",
    "    \n",
    "- La fenêtre pop-up contiendra les informations suivantes :\n",
    "    - code IATA de l'aéroport\n",
    "    - nom de l'aéroport\n",
    "    - nom de la ville\n",
    "    - code du pays\n",
    "     \n",
    "    \n",
    "Pour cela nous allons pour chacune des cinq plages d'altitude :\n",
    "- Créer une nouvelle table ne comportant que les aéroports ayant une altitude dans cette plage,\n",
    "- Pour chacun des aéroports de cette nouvelle table :\n",
    "    - Créer un dictionnaire ne comportant que les quatre paires clé-valeur à indiquer dans la pop-up\n",
    "    - Utiliser la fonction `ajouter_marqueur` pour placer l'aéroport correspondant sur la carte\n",
    "\n",
    "Bien entendu nous allons travailler avec des fonctions.\n",
    "    \n",
    "\n",
    "**Remarque :** Il aurait été possible de procéder autrement et d'optimiser un peu. Mais en travaillant ainsi on exploite davantage les capacités attendues du programme de NSI."
   ]
  },
  {
   "cell_type": "markdown",
   "metadata": {},
   "source": [
    "# 4) Quelques fonctions à créer"
   ]
  },
  {
   "cell_type": "code",
   "execution_count": null,
   "metadata": {},
   "outputs": [],
   "source": [
    "table_aeroports = charger_fichier('.\\\\airports\\\\airports.csv')"
   ]
  },
  {
   "cell_type": "markdown",
   "metadata": {},
   "source": [
    "<div class = \"alert alert-info\">  \n",
    "\n",
    "\n",
    "**Question**  \n",
    "\n",
    "Compléter la fonction `extraire_aeroports_dans_plage` qui prend en paramètres :\n",
    "- une table d'aéroprts `table` comportant un champ `Altitude` exprimée en **pieds**,\n",
    "- une altitude minimale `alt_min` exprimée en **mètres**,\n",
    "- une altitude maximale `alt_max` exprimée en **mètres**,\n",
    "    \n",
    "et renvoie une table comportant tous les aéroports ayant une altitude comprise entre `alt_min` (compris) et `alt_max` (non compris)\n",
    "    \n",
    "**Remarque :** en procédant comme dans le cours (partie III) cela peut se faire en une seule instruction (plus l'instruction `return ...`)\n",
    "    \n",
    "\n",
    "**Remarque :** 1 pied = 0,3048 mètre\n",
    "   "
   ]
  },
  {
   "cell_type": "code",
   "execution_count": null,
   "metadata": {},
   "outputs": [],
   "source": [
    "def extraire_aeroports_dans_plage(table, alt_min, alt_max):\n",
    "    #à compléter pour répondre\n",
    "    return table_extraite"
   ]
  },
  {
   "cell_type": "code",
   "execution_count": null,
   "metadata": {},
   "outputs": [],
   "source": [
    "extraire_aeroports_dans_plage(table_aeroports, 3000, 3500)"
   ]
  },
  {
   "cell_type": "markdown",
   "metadata": {},
   "source": [
    "<div class = \"alert alert-info\">  \n",
    "\n",
    "\n",
    "**Question**  \n",
    "\n",
    "Compléter la fonction `creer_dict_popup` qui prend en paramètre :\n",
    "    \n",
    "- un dictionnaire `aeroport` contenant les 14 champs `Airport ID`, `Name`, `City etc.` , \n",
    "    \n",
    "et renvoie un dictionnaire ne comportant que les quatre champs à afficher dans la pop_up : `Name`, `City`, `Country_Code`, `IATA` \n",
    "\n",
    "**Remarque :** on peut également n'utiliser qu'une seule instruction (plus l'instruction `return...`) en recourant à l'opérateur `in`. Mais ce n'est pas une obligation :-)"
   ]
  },
  {
   "cell_type": "code",
   "execution_count": null,
   "metadata": {},
   "outputs": [],
   "source": [
    "def creer_dict_popup(aeroport):\n",
    "    #à compléter pour répondre\n",
    "    \n",
    "    return dico_extrait"
   ]
  },
  {
   "cell_type": "code",
   "execution_count": null,
   "metadata": {},
   "outputs": [],
   "source": [
    "assert(creer_dict_popup({'Airport_ID': '333096',\n",
    "                          'Name': 'Qilian Airport',\n",
    "                          'Type': 'medium_airport',\n",
    "                          'City': 'Qilian',\n",
    "                          'Country_Code': 'CN',\n",
    "                          'IATA': 'HBQ',\n",
    "                          'Latitude': '38.012',\n",
    "                          'Longitude': '100.644',\n",
    "                          'Altitude': '10377'}) \n",
    "                           ==\n",
    "                         {\n",
    "                           'Name': 'Qilian Airport',\n",
    "                           'City': 'Qilian',\n",
    "                           'Country_Code': 'CN',\n",
    "                           'IATA': 'HBQ' \n",
    "                         }\n",
    "                       )"
   ]
  },
  {
   "cell_type": "markdown",
   "metadata": {},
   "source": [
    "<div class = \"alert alert-info\">  \n",
    "\n",
    "\n",
    "**Question**  \n",
    "\n",
    "Compléter les fonctions `donner_latitude` et `donner_longitude` qui prennent en paramètre :\n",
    "    \n",
    "- un dictionnaire `aeroport` contenant les 14 champs `Airport ID`, `Name`, `City etc.` , \n",
    "    \n",
    "et renvoient respectivement la latitude et la longitude de l'aéroport sous forme d'un flottant de type `float`.\n",
    "    \n",
    "**Remarque :** ce qui nécessite encore une fois d'utiliser la conversion de type (voir Warning n°1)"
   ]
  },
  {
   "cell_type": "code",
   "execution_count": null,
   "metadata": {},
   "outputs": [],
   "source": [
    "def donner_latitude(aeroport):\n",
    "    #à compléter\n",
    "    return latitude\n",
    "\n",
    "\n",
    "def donner_longitude(aeroport):\n",
    "    #à compléter\n",
    "    return longitude"
   ]
  },
  {
   "cell_type": "code",
   "execution_count": null,
   "metadata": {},
   "outputs": [],
   "source": [
    "assert(donner_latitude({'Airport_ID': '333096',\n",
    "                          'Name': 'Qilian Airport',\n",
    "                          'Type': 'medium_airport',\n",
    "                          'City': 'Qilian',\n",
    "                          'Country_Code': 'CN',\n",
    "                          'IATA': 'HBQ',\n",
    "                          'Latitude': '38.012',\n",
    "                          'Longitude': '100.644',\n",
    "                          'Altitude': '10377'}) \n",
    "                           == \n",
    "                           38.012 )\n",
    "       "
   ]
  },
  {
   "cell_type": "markdown",
   "metadata": {},
   "source": [
    "# 5) Une première carte"
   ]
  },
  {
   "cell_type": "markdown",
   "metadata": {},
   "source": [
    "<div class = \"alert alert-info\">  \n",
    "\n",
    "\n",
    "**Question**  \n",
    "\n",
    "On dispose désormais de cinq fonctions :\n",
    "- `ajouter_marqueur`\n",
    "- `extraire_aeroports_dans_plage`\n",
    "- `creer_dict_popup`\n",
    "- `donner_latitude` \n",
    "- `donner_longitude`\n",
    "\n",
    "\n",
    "1) En utilisant ces cinq fonctions, compléter la cellule de code ci-dessous pour obtenir une carte avec les aéroports en bleu ayant une altitude entre 0 et 40 mètres.\n",
    "    \n",
    "    \n",
    "2) Compléter le code pour placer sur la carte les 4 autres catégories d'aéroports (40 --> 500  vert, 500-1000 --> jaune, 1000-1500 --> rouge, 1500-99999 --> noir) On pourra :\n",
    "- soit créer une fonction qui reprend le code du 1) et qu'on appelera cinq fois,\n",
    "- soit faire 4 Copier-Coller (solution moins élégante)"
   ]
  },
  {
   "cell_type": "code",
   "execution_count": null,
   "metadata": {},
   "outputs": [],
   "source": [
    "table_aeroports = charger_fichier('.\\\\airports\\\\airports.csv')\n",
    "\n",
    "#étape 1 : création de la carte  \n",
    "ma_carte = folium.Map(location=(45, 0), zoom_start=2)\n",
    "\n",
    "#étape 2 : ajout des marqueurs\n",
    "\n",
    "#à compléter (pas mal de ligne de code)\n",
    "    \n",
    "\n",
    "#étape 3 : affichage de la carte\n",
    "ma_carte"
   ]
  },
  {
   "cell_type": "markdown",
   "metadata": {},
   "source": [
    "# 6) Une amélioration qui nécessite une fusion de tables"
   ]
  },
  {
   "cell_type": "markdown",
   "metadata": {},
   "source": [
    "On souhaite afficher une variante de cette carte pour laquelle le code du nom du pays a été remplacé par son nom de pays selon la norme ISO-3166\n",
    "\n",
    "Pour ce dernier point, il convient de savoir que notre table aéroports respectait les noms de pays de la nomre ISO-3166 et que l'on dispose d'une table adéquate permettant d'assurer la correspondance :"
   ]
  },
  {
   "cell_type": "code",
   "execution_count": null,
   "metadata": {},
   "outputs": [],
   "source": [
    "import csv\n",
    "\n",
    "def charger_fichier( nom_fic ):\n",
    "    \"\"\"\n",
    "    Permet de lire un fichier CSV en utilisant la ligne d'entêtes\n",
    "    Retourne une liste de dictionnaires.\n",
    "    \"\"\"\n",
    "    table = []\n",
    "    fichier_csv = open( nom_fic , \"r\", newline =\"\", encoding =\"utf-8\" )\n",
    "    lecteur_fichier = csv.DictReader( fichier_csv , delimiter =\",\")    \n",
    "    for enreg in lecteur_fichier :\n",
    "        table.append (dict ( enreg )) # enreg est de type OrderedDict on le remet endict\n",
    "    fichier_csv.close() \n",
    "    return table"
   ]
  },
  {
   "cell_type": "code",
   "execution_count": null,
   "metadata": {},
   "outputs": [],
   "source": [
    "table_pays = charger_fichier('.\\\\airports\\countries.csv')\n",
    "table_aeroports = charger_fichier('.\\\\airports\\\\airports.csv')"
   ]
  },
  {
   "cell_type": "markdown",
   "metadata": {},
   "source": [
    "Pour l'Andorre, le code alpha-2 est 'AD' (pour votre culture générale, il existe aussi un code alpha-3 sur 3 lettres):"
   ]
  },
  {
   "cell_type": "code",
   "execution_count": null,
   "metadata": {},
   "outputs": [],
   "source": [
    "table_pays[0]"
   ]
  },
  {
   "cell_type": "markdown",
   "metadata": {},
   "source": [
    "Nous allons fusionner la table des aéroports `table_aeroports` avec la table des pays `table_pays` afin d'obtenir une table fusionnée comportant tous les champs de la table `table_aeroports` plus le champ `Country_Name`"
   ]
  },
  {
   "cell_type": "markdown",
   "metadata": {},
   "source": [
    "<div class = \"alert alert-info\">  \n",
    "    \n",
    "\n",
    "**Question**\n",
    "    \n",
    "    \n",
    "Compléter le code de la fonction `fusionner` ci-dessous :\n",
    "- prenant en paramètre les tables `table_gauche` et `table_droite` \n",
    "    \n",
    "    \n",
    "- renvoyant une table `table_fusionnee` telle que :\n",
    "    - chaque dictionnaire de la table fusionnee comporte tous les champs de la table gauche `table_gauche` et le champ `name` de la `table_droite` renommé en champ `Country_Name`,\n",
    "    \n",
    "    - avec le champ `Country_Code` utilisé comme champ de fusion pour `table_gauche` et `code` comme champ de fusion pour `table_droite` \n",
    "    \n",
    "    \n",
    "(`table_gauche` sera la table des aéroports, `table_droite` sera la table des pays).\n",
    "    \n",
    "Voici un exemple d'enregistrement (de ligne) de la table fusionnée : on remarque le champ `Country_Name` en plus.\n",
    "\n",
    "```\n",
    "{'Airport_ID': '2596',\n",
    " 'Name': 'Sørkjosen Airport',\n",
    " 'Type': 'medium_airport',\n",
    " 'City': 'Sørkjosen',\n",
    " 'Country_Code': 'NO',\n",
    " 'IATA': 'SOJ',\n",
    " 'Latitude': '69.786796569824',\n",
    " 'Longitude': '20.959400177002',\n",
    " 'Altitude': '16',\n",
    " 'Country_Name': 'Norway'}    \n",
    "```\n",
    "   "
   ]
  },
  {
   "cell_type": "code",
   "execution_count": null,
   "metadata": {},
   "outputs": [],
   "source": [
    "import copy\n",
    "\n",
    "def fusionner(table_gauche, table_droite):\n",
    "    table_fusion = []\n",
    "    for gauche in table_gauche:\n",
    "        for droite in table_droite:\n",
    "            #à compléter      \n",
    "    return table_fusion"
   ]
  },
  {
   "cell_type": "code",
   "execution_count": null,
   "metadata": {},
   "outputs": [],
   "source": [
    "table_fusionnee = fusionner (table_aeroports, table_pays)\n",
    "table_fusionne[1500]"
   ]
  },
  {
   "cell_type": "markdown",
   "metadata": {},
   "source": [
    "<div class = \"alert alert-info\">  \n",
    "    \n",
    "\n",
    "**Question**\n",
    "    \n",
    "    \n",
    "Modifier le code ci-dessous (à un seul endroit) pour qu'il affiche les aéroports avec le nom des pays au lieu des codes des pays comme auparavant."
   ]
  },
  {
   "cell_type": "code",
   "execution_count": null,
   "metadata": {},
   "outputs": [],
   "source": [
    "def extraire_aeroports_dans_plage(table, alt_min, alt_max):\n",
    "    table_extraite = [aeroport for aeroport in table if\n",
    "                     alt_min <= 0.3048 * float(aeroport['Altitude']) and\n",
    "                     0.3048 * float(aeroport['Altitude']) < alt_max]\n",
    "    return table_extraite\n",
    "\n",
    "def creer_dict_popup(aeroport):\n",
    "    dico_extrait = {key:val for key, val in aeroport.items() \n",
    "                    if key in ['Name', 'City', 'Country_Code', 'IATA']}\n",
    "    return dico_extrait\n",
    "\n",
    "def donner_latitude(aeroport):\n",
    "    return float(aeroport['Latitude'])\n",
    "\n",
    "def donner_longitude(aeroport):\n",
    "    return float(aeroport['Longitude'])\n",
    "\n",
    "#étape 0 : creer la table des aeroports fusionnee\n",
    "table_pays = charger_fichier('.\\\\airports\\countries.csv')\n",
    "table_aeroports = charger_fichier('.\\\\airports\\\\airports.csv')\n",
    "table_aeroports = fusionner (table_aeroports, table_pays)\n",
    "\n",
    "#étape 1 : création de la carte  \n",
    "ma_carte = folium.Map(location=(45, 0), zoom_start=2)\n",
    "\n",
    "#étape 2 : ajout des marqueurs\n",
    "\n",
    "def ajouter_plage_sur_carte(carte, table_des_aeroports, alt_min, alt_max, couleur):\n",
    "    plage = extraire_aeroports_dans_plage(table_des_aeroports, alt_min, alt_max)\n",
    "    for aeroport in plage :\n",
    "        dict_popup = creer_dict_popup(aeroport)\n",
    "        latitude = donner_latitude(aeroport)\n",
    "        longitude = donner_longitude(aeroport)\n",
    "        ajouter_marqueur(carte, latitude, longitude, dict_popup, couleur)    \n",
    "\n",
    "ajouter_plage_sur_carte(ma_carte, table_aeroports,    0,    40, '#0000FF')\n",
    "ajouter_plage_sur_carte(ma_carte, table_aeroports,   40,   500, '#00FF00')\n",
    "ajouter_plage_sur_carte(ma_carte, table_aeroports,  500,  1000, '#FFFF00') \n",
    "ajouter_plage_sur_carte(ma_carte, table_aeroports, 1000,  1500, '#FF0000') \n",
    "ajouter_plage_sur_carte(ma_carte, table_aeroports, 1500, 99999, '#000000') \n",
    "    \n",
    "\n",
    "#étape 3 : affichage de la carte\n",
    "ma_carte"
   ]
  },
  {
   "cell_type": "markdown",
   "metadata": {},
   "source": [
    "<div class = \"alert alert-danger\">\n",
    "\n",
    "# Ci-dessous Aide mémo du professeur, inutile de lire"
   ]
  },
  {
   "cell_type": "code",
   "execution_count": null,
   "metadata": {},
   "outputs": [],
   "source": [
    "import csv\n",
    "\n",
    "def charger_fichier( nom_fic ):\n",
    "    table = []\n",
    "    fichier_csv = open( nom_fic , \"r\", newline =\"\", encoding =\"utf-8\" )\n",
    "    lecteur_fichier = csv.DictReader( fichier_csv , delimiter =\",\")    \n",
    "    for enreg in lecteur_fichier :\n",
    "        table.append (dict ( enreg )) # enreg est de type OrderedDict on le remet endict\n",
    "    fichier_csv.close()      \n",
    "    return table\n",
    "\n",
    "def enregistrer_en_csv(chemin_fichier, table):\n",
    "    with open(chemin_fichier, 'w', newline='', encoding = 'UTF-8') as csvfile:\n",
    "        fieldnames = table[0].keys()\n",
    "        writer = csv.DictWriter(csvfile, fieldnames=fieldnames)\n",
    "        writer.writeheader()\n",
    "        for row in table:\n",
    "            writer.writerow(row)"
   ]
  },
  {
   "cell_type": "code",
   "execution_count": null,
   "metadata": {},
   "outputs": [],
   "source": [
    "file = charger_fichier('.\\\\airports\\\\full_airports.csv')\n",
    "i = 0\n",
    "liste = []\n",
    "altitude_NO = []\n",
    "for a in file:\n",
    "    if a[\"iata_code\"] != '' and a[\"elevation_ft\"] != '':\n",
    "        a_modifie = {\n",
    "            \"Airport_ID\" : a['id'],\n",
    "            \"Name\" : a[\"name\"],\n",
    "            \"Type\" : a[\"type\"],\n",
    "            \"City\" : a[\"municipality\"],\n",
    "            \"Country_Code\" : a[\"iso_country\"],\n",
    "            \"IATA\": a[\"iata_code\"],\n",
    "            \"Latitude\": a[\"latitude_deg\"],\n",
    "            \"Longitude\": a[\"longitude_deg\"],\n",
    "            \"Altitude\": a[\"elevation_ft\"],\n",
    "        }\n",
    "        liste.append(a_modifie)\n",
    "        if a_modifie[\"Altitude\"] == '':\n",
    "            altitude_NO.append(a_modifie)\n",
    "print(len(liste))\n",
    "print(len(altitude_NO))\n",
    "enregistrer_en_csv('.\\\\airports\\\\airports.csv', liste)"
   ]
  },
  {
   "cell_type": "code",
   "execution_count": null,
   "metadata": {},
   "outputs": [],
   "source": [
    "import folium\n",
    "from folium.plugins import MarkerCluster\n",
    "\n",
    "\n",
    "def traiter_table(table, carte):\n",
    "    '''\n",
    "    plus rapide avec MarkerCluster (finalement, moyennement vrai)\n",
    "    '''\n",
    "    marker_cluster = MarkerCluster(name = 'villes').add_to(carte)\n",
    "    for enregistrement in table:\n",
    "        habitants = int(enregistrement['habitants'])\n",
    "        if habitants > 100000:\n",
    "            lat = float(enregistrement['latitude'])\n",
    "            lon = float(enregistrement['longitude'])\n",
    "            nom_ville = enregistrement['cityName']\n",
    "            radius = habitants/100000\n",
    "            folium.vector_layers.CircleMarker(\n",
    "                location = [lat, lon], \n",
    "                radius = radius, \n",
    "                popup = nom_ville\n",
    "            ).add_to(marker_cluster)\n",
    "    folium.LayerControl().add_to(carte) \n",
    "\n",
    "    \n",
    "ma_carte = folium.Map(location=(45, 0), zoom_start=2)\n",
    "table_villes = charger_fichier('cities.csv')\n",
    "traiter_table(table_villes, ma_carte)\n",
    "\n",
    "ma_carte.save('villes_monde.html')\n",
    "ma_carte\n"
   ]
  }
 ],
 "metadata": {
  "kernelspec": {
   "display_name": "Python 3",
   "language": "python",
   "name": "python3"
  },
  "language_info": {
   "codemirror_mode": {
    "name": "ipython",
    "version": 3
   },
   "file_extension": ".py",
   "mimetype": "text/x-python",
   "name": "python",
   "nbconvert_exporter": "python",
   "pygments_lexer": "ipython3",
   "version": "3.8.1"
  }
 },
 "nbformat": 4,
 "nbformat_minor": 4
}
